{
 "cells": [
  {
   "cell_type": "code",
   "execution_count": 1,
   "metadata": {
    "collapsed": true
   },
   "outputs": [],
   "source": [
    "import  xml.dom.minidom"
   ]
  },
  {
   "cell_type": "code",
   "execution_count": 2,
   "metadata": {
    "collapsed": true
   },
   "outputs": [],
   "source": [
    "dom = xml.dom.minidom.parse('3000.xml')\n",
    "root = dom.documentElement"
   ]
  },
  {
   "cell_type": "code",
   "execution_count": 63,
   "metadata": {
    "collapsed": false
   },
   "outputs": [
    {
     "name": "stdout",
     "output_type": "stream",
     "text": [
      "6132\n",
      "vt. 放弃（职位、权力等）： to give up (as a position of authority) formally\n",
      "vt. 移交，交出： to give (something) over to the control or possession of another usually under duress\n",
      "vt. 放弃（职位、权力等）： to give up (as a position of authority) formally\n",
      "vt. 移交，交出： to give (something) over to the control or possession of another usually under duress\n",
      "\n",
      "adj. 轻信的，易受骗的： disposed to believe too readily; gullible\n",
      "adj. 轻信的，易受骗的： disposed to believe too readily; gullible\n",
      "\n",
      "n. 谨慎： the quality of being discreet; circumspection\n",
      "n. 自制，节制： the checking of one's true feelings and impulses when dealing with others\n",
      "n. 谨慎： the quality of being discreet; circumspection\n",
      "n. 自制，节制： the checking of one's true feelings and impulses when dealing with others\n",
      "\n",
      "adj. 离散的，不连续的：constituting a separate entity\n",
      "adj. 离散的，不连续的：constituting a separate entity\n",
      "\n",
      "vt. 破译： to read or interpret (ambiguous, obscure, or illegible matter).\n",
      "v. 有清晰想法，理解，解读： to have a clear idea of\n",
      "vt. 破译： to read or interpret (ambiguous, obscure, or illegible matter).\n",
      "v. 有清晰想法，理解，解读： to have a clear idea of\n",
      "\n",
      "vt. 保存，避免浪费： to keep in a safe or sound state, especially to avoid wasteful or destructive use\n",
      "vt. 保存，避免浪费： to keep in a safe or sound state, especially to avoid wasteful or destructive use\n",
      "\n",
      "dj. 透明的： capable of transmitting light\n",
      "dj. 没有歧义，清晰易懂的： not subject to misinterpretation or more than one interpretation\n",
      "dj. 透明的： capable of transmitting light\n",
      "dj. 没有歧义，清晰易懂的： not subject to misinterpretation or more than one interpretation\n",
      "\n",
      "n. 存货清单： a detailed, itemized list, report, or record of things in one's possession, especially a periodic survey of all goods and materials in stock\n",
      "n. （写有要点的）简介： a short statement of the main points\n",
      "n. 存货清单： a detailed, itemized list, report, or record of things in one's possession, especially a periodic survey of all goods and materials in stock\n",
      "n. （写有要点的）简介： a short statement of the main points\n",
      "\n",
      "adj. 有影响力的，主宰的：dominant in position or influence; superior.\n",
      "adj. 上升的：moving upward : rising\n",
      "adj. 有影响力的，主宰的：dominant in position or influence; superior.\n",
      "adj. 上升的：moving upward : rising\n",
      "\n",
      "adj. 深奥的，难解的： difficult or impossible for one of ordinary understanding or knowledge to comprehend\n",
      "adj. 深奥的，难解的： difficult or impossible for one of ordinary understanding or knowledge to comprehend\n",
      "\n",
      "10\n",
      "3068\n"
     ]
    }
   ],
   "source": [
    "import json\n",
    "\n",
    "dom = xml.dom.minidom.parse('3000.xml')\n",
    "root = dom.documentElement\n",
    "items = root.getElementsByTagName('item')\n",
    "print len(items)\n",
    "word_dict = {}\n",
    "word_count = defaultdict(int)\n",
    "\n",
    "c = 0\n",
    "for item in items:\n",
    "\n",
    "    word = item.getElementsByTagName('word')[0].firstChild.data\n",
    "    if word in word_dict:\n",
    "        continue\n",
    "\n",
    "    trans = item.getElementsByTagName('trans')[0].firstChild.data\n",
    "    phonetic = item.getElementsByTagName('phonetic')[0].firstChild.data\n",
    " \n",
    "    mean_list, example_list = parse_tran(trans)\n",
    "    mean_str = ''.join(mean_list)\n",
    "    example_str = ''.join(example_list)\n",
    "\n",
    "    word_dict[word] = {'phonetic': phonetic, 'mean': mean_str, 'example': example_str}\n",
    "\n",
    "print len(word_dict)\n",
    "fp = file('3000.json', 'w')\n",
    "fp.write(json.dumps(word_dict, ensure_ascii=True,indent=2))\n",
    "fp.close()"
   ]
  },
  {
   "cell_type": "code",
   "execution_count": 60,
   "metadata": {
    "collapsed": false
   },
   "outputs": [],
   "source": [
    "for word in word_count:\n",
    "    if word_count[word] > 2:\n",
    "        print word, word_count[word]"
   ]
  },
  {
   "cell_type": "code",
   "execution_count": 55,
   "metadata": {
    "collapsed": false
   },
   "outputs": [
    {
     "name": "stdout",
     "output_type": "stream",
     "text": [
      "6132\n"
     ]
    }
   ],
   "source": [
    "\n",
    "print len(items)"
   ]
  },
  {
   "cell_type": "code",
   "execution_count": null,
   "metadata": {
    "collapsed": true
   },
   "outputs": [],
   "source": [
    "for item in items:\n",
    "    dir(i)\n",
    "    break"
   ]
  },
  {
   "cell_type": "code",
   "execution_count": 52,
   "metadata": {
    "collapsed": false
   },
   "outputs": [
    {
     "name": "stdout",
     "output_type": "stream",
     "text": [
      "6132\n",
      "6132\n"
     ]
    }
   ],
   "source": [
    "words = root.getElementsByTagName('word')\n",
    "print len(words)\n",
    "\n",
    "print len(set(words))"
   ]
  },
  {
   "cell_type": "code",
   "execution_count": 7,
   "metadata": {
    "collapsed": false
   },
   "outputs": [
    {
     "name": "stdout",
     "output_type": "stream",
     "text": [
      "<DOM Text node \"u'\\n\\t\\t'\">\n",
      "<DOM Element: word at 0x3ea56c8>\n",
      "<DOM Text node \"u'\\n\\t\\t'\">\n",
      "<DOM Element: trans at 0x3ea5d48>\n",
      "<DOM Text node \"u'\\n\\t\\t'\">\n",
      "<DOM Element: phonetic at 0x3ea5fc8>\n",
      "<DOM Text node \"u'\\n\\t\\t'\">\n",
      "<DOM Element: tags at 0x3f34648>\n",
      "<DOM Text node \"u'\\n\\t\\t'\">\n",
      "<DOM Element: progress at 0x3f34d88>\n",
      "<DOM Text node \"u'\\n\\t'\">\n"
     ]
    }
   ],
   "source": [
    "item = items[0]\n",
    "for node in item.childNodes:\n",
    "    print node"
   ]
  },
  {
   "cell_type": "code",
   "execution_count": 14,
   "metadata": {
    "collapsed": false
   },
   "outputs": [
    {
     "name": "stdout",
     "output_type": "stream",
     "text": [
      "abandon [ə'bændən]\n"
     ]
    }
   ],
   "source": [
    "word = item.getElementsByTagName('word')\n",
    "trans = item.getElementsByTagName('trans')\n",
    "phonetic = item.getElementsByTagName('phonetic')\n",
    "print word[0].firstChild.data, phonetic[0].firstChild.data"
   ]
  },
  {
   "cell_type": "code",
   "execution_count": 53,
   "metadata": {
    "collapsed": false
   },
   "outputs": [
    {
     "data": {
      "text/plain": [
       "([u'n. \\u653e\\u7eb5\\uff1a carefree, freedom from constraint\\n',\n",
       "  u'v. \\u653e\\u7eb5\\uff1a to give (oneself) over unrestrainedly\\n',\n",
       "  u'v. \\u653e\\u5f03\\uff1a to withdraw from often in the face of danger or encroachment\\n',\n",
       "  u'v. \\u505c\\u6b62\\u505a\\u67d0\\u4e8b\\uff1a to put an end to (something planned or previously agreed to)\\n'],\n",
       " [u'n. \\u653e\\u7eb5: added spices to the stew with complete abandon \\u8086\\u65e0\\u5fcc\\u60ee\\u5730\\u5411\\u7096\\u83dc\\u91cc\\u9762\\u52a0\\u8c03\\u6599\\n',\n",
       "  u'v. \\u653e\\u7eb5: abandon oneself to emotion \\u611f\\u60c5\\u7528\\u4e8b\\uff0cabandon herself to a life of complete idleness \\u653e\\u7eb5\\u81ea\\u5df1\\u8fc7\\u7740\\u95f2\\u6563\\u7684\\u751f\\u6d3b\\n',\n",
       "  u'v. \\u653e\\u5f03: abandon the ship/homes \\u5f03\\u8239\\uff0c\\u79bb\\u5bb6\\n',\n",
       "  u'v. \\u505c\\u6b62\\u505a\\u67d0\\u4e8b: the bad weather forced NASA to abandon the launch \\u574f\\u5929\\u6c14\\u8feb\\u4f7fNASA\\u505c\\u6b62\\u4e86\\u53d1\\u5c04\\n'])"
      ]
     },
     "execution_count": 53,
     "metadata": {},
     "output_type": "execute_result"
    }
   ],
   "source": [
    "def parse_tran(tran):\n",
    "    means = tran.split(tran[0])\n",
    "\n",
    "    mean_list = []\n",
    "    example_list = []\n",
    "    for mean in means[1:]:\n",
    "\n",
    "        symbol = u'\\u2663'\n",
    "        lines = mean.split(symbol)\n",
    "\n",
    "        meaning = lines[0][5:]\n",
    "        #print meaning,\n",
    "        mean_list.append(meaning)\n",
    "\n",
    "        zh_mean = meaning.split(u'：')[0]\n",
    "\n",
    "        for l in lines[1:]:\n",
    "            if l[0] == u'例':\n",
    "                #print zh_mean, l[3:],\n",
    "                example_list.append(zh_mean + ': '+ l[3:])\n",
    "\n",
    "\n",
    "    #print len(mean_list), len(example_list)\n",
    "    return mean_list, example_list\n",
    "tran = trans[0].firstChild.data\n",
    "parse_tran(tran)"
   ]
  },
  {
   "cell_type": "code",
   "execution_count": 22,
   "metadata": {
    "collapsed": false
   },
   "outputs": [
    {
     "data": {
      "text/plain": [
       "u'\\u2660'"
      ]
     },
     "execution_count": 22,
     "metadata": {},
     "output_type": "execute_result"
    }
   ],
   "source": [
    "trans[0]"
   ]
  },
  {
   "cell_type": "code",
   "execution_count": 34,
   "metadata": {
    "collapsed": false
   },
   "outputs": [
    {
     "name": "stdout",
     "output_type": "stream",
     "text": [
      "♠\n",
      "♡\n",
      "♢\n",
      "♣\n"
     ]
    }
   ],
   "source": [
    "print u'\\u2660'\n",
    "print u'\\u2661'\n",
    "print u'\\u2662'\n",
    "print u'\\u2663'"
   ]
  },
  {
   "cell_type": "code",
   "execution_count": 42,
   "metadata": {
    "collapsed": true
   },
   "outputs": [],
   "source": [
    "x = '：'\n"
   ]
  },
  {
   "cell_type": "code",
   "execution_count": 44,
   "metadata": {
    "collapsed": false
   },
   "outputs": [
    {
     "data": {
      "text/plain": [
       "'\\xef\\xbc\\x9a'"
      ]
     },
     "execution_count": 44,
     "metadata": {},
     "output_type": "execute_result"
    }
   ],
   "source": [
    "x\n"
   ]
  },
  {
   "cell_type": "code",
   "execution_count": 18,
   "metadata": {
    "collapsed": false
   },
   "outputs": [
    {
     "name": "stdout",
     "output_type": "stream",
     "text": [
      "\n",
      "考法1  n. 放纵： carefree, freedom from constraint\n",
      "♣例  added spices to the stew with complete abandon 肆无忌惮地向炖菜里面加调料\n",
      "♣近  unconstraint, uninhibitedness, unrestraint\n",
      "\n",
      "考法2  v. 放纵： to give (oneself) over unrestrainedly\n",
      "♣例  abandon oneself to emotion 感情用事，abandon herself to a life of complete idleness 放纵自己过着闲散的生活\n",
      "♣近  indulge, surrender, give up\n",
      "\n",
      "考法3  v. 放弃： to withdraw from often in the face of danger or encroachment\n",
      "♣例  abandon the ship/homes 弃船，离家\n",
      "♣反  salvage 救援\n",
      "\n",
      "考法4  v. 停止做某事： to put an end to (something planned or previously agreed to)\n",
      "♣例  the bad weather forced NASA to abandon the launch 坏天气迫使NASA停止了发射\n",
      "♣近  abort, drop, repeal, rescind, revoke, call off\n",
      "♣反  keep, continue, maintain, carry on 继续\n"
     ]
    }
   ],
   "source": [
    "for x in l:\n",
    "    print x"
   ]
  },
  {
   "cell_type": "code",
   "execution_count": 20,
   "metadata": {
    "collapsed": true
   },
   "outputs": [],
   "source": [
    "ele = l[4]"
   ]
  },
  {
   "cell_type": "code",
   "execution_count": 21,
   "metadata": {
    "collapsed": false
   },
   "outputs": [
    {
     "name": "stdout",
     "output_type": "stream",
     "text": [
      "4\n"
     ]
    }
   ],
   "source": [
    "lines = ele.split('\\n')\n",
    "print len(lines)"
   ]
  },
  {
   "cell_type": "code",
   "execution_count": null,
   "metadata": {
    "collapsed": true
   },
   "outputs": [],
   "source": []
  }
 ],
 "metadata": {
  "anaconda-cloud": {},
  "kernelspec": {
   "display_name": "Python [Root]",
   "language": "python",
   "name": "Python [Root]"
  },
  "language_info": {
   "codemirror_mode": {
    "name": "ipython",
    "version": 2
   },
   "file_extension": ".py",
   "mimetype": "text/x-python",
   "name": "python",
   "nbconvert_exporter": "python",
   "pygments_lexer": "ipython2",
   "version": "2.7.12"
  }
 },
 "nbformat": 4,
 "nbformat_minor": 0
}
